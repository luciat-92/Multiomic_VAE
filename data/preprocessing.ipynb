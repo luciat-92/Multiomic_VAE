{
 "cells": [
  {
   "cell_type": "code",
   "execution_count": 1,
   "metadata": {},
   "outputs": [],
   "source": [
    "import os\n",
    "import gzip\n",
    "import pandas as pd\n",
    "import numpy as np\n",
    "import re\n",
    "\n",
    "ROOT = \"/group/iorio/lucia/\"\n",
    "FOLD_PROJECT = os.path.join(ROOT, \"Multiomic_VAE/\")\n",
    "\n",
    "xena_folder = os.path.join(ROOT, \"datasets/XENA/TCGA_TARGET_GTEx/\")\n",
    "xena_gene_file = os.path.join(xena_folder, \"TcgaTargetGtex_rsem_gene_tpm\")\n",
    "# xena_gene_file = os.path.join(xena_folder, \"TEST_rsem_gene_tpm\")\n",
    "xena_gene_mapping_file = os.path.join(xena_folder, 'probeMap%2Fgencode.v23.annotation.gene.probemap')\n",
    "xena_sample_file = os.path.join(xena_folder, 'TcgaTargetGTEX_phenotype.txt.gz')\n",
    "\n",
    "depmap_folder = os.path.join(ROOT, \"datasets/DEPMAP_PORTAL/version_23Q2/\")\n",
    "depmap_gene_file = os.path.join(depmap_folder, \"OmicsExpressionProteinCodingGenesTPMLogp1.csv\")\n",
    "depmap_sample_file = os.path.join(depmap_folder, \"Model.csv\")\n",
    "\n",
    "# gene annotation\n",
    "hgnc_gene_ann_file = os.path.join(ROOT, \"datasets/hgnc_complete_set_202311.txt\")\n",
    "hgnc_gene_ann_df = pd.read_csv(hgnc_gene_ann_file, sep=\"\\t\", low_memory=False)\n",
    "\n",
    "# load depmap data\n",
    "depmap_gene_df = pd.read_csv(depmap_gene_file, sep=',', index_col=0)\n",
    "depmap_gene_df.index.name = 'sample_id'\n",
    "depmap_sample_df = pd.read_csv(depmap_sample_file, sep=',', index_col=0)\n",
    "depmap_sample_df.index.name = 'sample_id'\n",
    "\n",
    "# load tissue data\n",
    "with gzip.open(xena_sample_file) as f:\n",
    "    xena_sample_df = pd.read_csv(f, sep='\\t', index_col=0, encoding='ISO-8859-1')\n",
    "xena_sample_df.index.name = 'sample_id'\n",
    "xena_gene_mapping_df = pd.read_csv(xena_gene_mapping_file, sep='\\t')\n",
    "\n",
    "xena_gene_df = pd.read_csv(xena_gene_file, sep='\\t')\n",
    "xena_gene_df.index = xena_gene_df['sample']\n",
    "xena_gene_df = xena_gene_df.drop(columns=['sample'])\n",
    "xena_gene_df.index.name = 'xena_gene_id'\n"
   ]
  },
  {
   "cell_type": "code",
   "execution_count": 4,
   "metadata": {},
   "outputs": [],
   "source": [
    "##################\n",
    "### FUNCTIONS ####\n",
    "##################\n",
    "\n",
    "def generate_sankey_chart_data(df, columns, sankey_link_weight):\n",
    "    # list of list: each list are the set of nodes in each tier/column\n",
    "    column_values = [df[col] for col in columns]\n",
    "    # this generates the labels for the sankey by taking all the unique values\n",
    "    labels = sum([list(node_values.unique()) for node_values in column_values],[])\n",
    "    # initializes a dict of dicts (one dict per tier) \n",
    "    link_mappings = {col: {} for col in columns}\n",
    "\n",
    "    # each dict maps a node to unique number value (same node in different tiers\n",
    "    # will have different nubmer values\n",
    "    i = 0\n",
    "    for col, nodes in zip(columns, column_values):\n",
    "        for node in nodes.unique():\n",
    "            link_mappings[col][node] = i\n",
    "            i = i + 1\n",
    "    # specifying which coluns are serving as sources and which as sources\n",
    "    # ie: given 3 df columns (col1 is a source to col2, col2 is target to col1 and \n",
    "    # a source to col 3 and col3 is a target to col2\n",
    "    source_nodes = column_values[: len(columns) - 1]\n",
    "    target_nodes = column_values[1:]\n",
    "    source_cols = columns[: len(columns) - 1]\n",
    "    target_cols = columns[1:]\n",
    "    links = []\n",
    "    # loop to create a list of links in the format [((src,tgt),wt),(),()...]\n",
    "    for source, target, source_col, target_col in zip(source_nodes, target_nodes, source_cols, target_cols):\n",
    "        for val1, val2, link_weight in zip(source, target, df[sankey_link_weight]):\n",
    "            links.append(((link_mappings[source_col][val1],link_mappings[target_col][val2]),link_weight,))\n",
    "\n",
    "    # creating a dataframe with 2 columns: for the links (src, tgt) and weights\n",
    "    df_links = pd.DataFrame(links, columns=[\"link\", \"weight\"])\n",
    "\n",
    "    # aggregating the same links into a single link (by weight)\n",
    "    df_links = df_links.groupby(by=[\"link\"], as_index=False).agg({\"weight\": sum})\n",
    "\n",
    "    # generating three lists needed for the sankey visual\n",
    "    sources = [val[0] for val in df_links[\"link\"]]\n",
    "    targets = [val[1] for val in df_links[\"link\"]]\n",
    "    weights = df_links[\"weight\"]\n",
    "\n",
    "    return labels, sources, targets, weights\n",
    "\n",
    "\n",
    "# create a function to create standard deviation and mean per gene (colum)\n",
    "def get_mean_std_cv(df):\n",
    "    std = df.std(axis=0)\n",
    "    mean = df.mean(axis=0)\n",
    "    df_summ = pd.DataFrame({'id': df.columns, 'mean': mean, 'std': std})\n",
    "    df_summ['cv'] =  df_summ['std'] /  df_summ['mean']\n",
    "    # remove index\n",
    "    df_summ = df_summ.reset_index(drop=True)\n",
    "    return df_summ "
   ]
  },
  {
   "cell_type": "code",
   "execution_count": 5,
   "metadata": {},
   "outputs": [],
   "source": [
    "########################\n",
    "### MATCH AND FILTER ###\n",
    "########################\n",
    "\n",
    "# match data frames by gene id (use hgnc annotation)\n",
    "# to get the new gene names, assign to a dataframe and match with the two available annotations!\n",
    "gene_names = []\n",
    "gene_ids = []\n",
    "\n",
    "# Split each element in the array and extract gene name and ID\n",
    "for column_name in depmap_gene_df.columns:\n",
    "    parts = re.split(r'\\s*\\(|\\)\\s*', column_name)\n",
    "    gene_name = parts[0].strip()\n",
    "    gene_id = parts[1].strip()\n",
    "    gene_names.append(gene_name)\n",
    "    gene_ids.append(gene_id)\n",
    "\n",
    "# Create a DataFrame with the gene names and gene IDs as columns\n",
    "df = pd.DataFrame({'gene_name': gene_names, 'entrez_id': gene_ids})\n",
    "\n",
    "# match with hgnc\n",
    "df['entrez_id'] = df['entrez_id'].astype('float64')\n",
    "match_df = pd.merge(df, \n",
    "                    hgnc_gene_ann_df[[\"hgnc_id\", \"entrez_id\", \"symbol\", \"ensembl_gene_id\"]], \n",
    "                    on = 'entrez_id')\n",
    "# match with xena gene mapping\n",
    "xena_gene_mapping_df['ensembl_gene_id'] = xena_gene_mapping_df['id'].str.split('.').str[0]\n",
    "match_df = pd.merge(match_df, xena_gene_mapping_df, on = 'ensembl_gene_id')\n",
    "\n",
    "# remvoe duplicates and modify names\n",
    "match_df = match_df.drop_duplicates(subset=[\"ensembl_gene_id\"])\n",
    "match_df['depmap_gene_id'] = match_df['gene_name'] + \" (\" + match_df['entrez_id'].astype('int').astype('str') + \")\"\n",
    "match_df['xena_gene_id'] = match_df['id']\n",
    "match_df['complete_id'] = match_df['symbol'] + \" (\" + match_df['ensembl_gene_id'] + \")\"\n",
    "\n",
    "# create a new data frame from depmap_gene_df, keep only those genes that have a value in depmap_id in match_df\n",
    "depmap_gene_df_match = depmap_gene_df[match_df['depmap_gene_id']]\n",
    "depmap_gene_df_match.columns = match_df['complete_id']\n",
    "depmap_gene_df_match.columns.name = None\n",
    "\n",
    "# create a new data frame from xena_gene_df, keep only those genes that have a value in xena_id in match_df\n",
    "xena_gene_df_match = xena_gene_df.loc[match_df['xena_gene_id'], :]\n",
    "# transpose xena_gene_df_match\n",
    "xena_gene_df_match = xena_gene_df_match.transpose()\n",
    "xena_gene_df_match.index.name = 'sample_id'\n",
    "xena_gene_df_match.columns = match_df['complete_id']\n",
    "xena_gene_df_match.columns.name = None\n",
    "# convert entries in xena_gene_df_match: computed as log2(x+0.001) but should be log2(x+1)\n",
    "xena_gene_df_match = np.log2(np.power(2, xena_gene_df_match) - 0.001 + 1)\n",
    "xena_gene_df_match[xena_gene_df_match.abs() < 10**-7] = 0\n",
    "\n",
    "# create final table (samples x genes)\n",
    "tot_gene_df = pd.concat([depmap_gene_df_match, xena_gene_df_match], axis=0, sort=False)"
   ]
  },
  {
   "cell_type": "code",
   "execution_count": 12,
   "metadata": {},
   "outputs": [
    {
     "name": "stdout",
     "output_type": "stream",
     "text": [
      "(19131, 19074)\n",
      "(1450, 19074)\n"
     ]
    }
   ],
   "source": [
    "print(xena_gene_df_match.shape)\n",
    "print(depmap_gene_df_match.shape)"
   ]
  },
  {
   "cell_type": "code",
   "execution_count": 116,
   "metadata": {},
   "outputs": [
    {
     "data": {
      "image/png": "[encoded data removed]",
      "text/plain": [
       "<Figure size 1200x400 with 3 Axes>"
      ]
     },
     "metadata": {},
     "output_type": "display_data"
    }
   ],
   "source": [
    "############\n",
    "### PLOT ###\n",
    "############\n",
    "\n",
    "import matplotlib.pyplot as plt\n",
    "import seaborn as sns\n",
    "import plotly.graph_objects as go\n",
    "\n",
    "# plot the distribution of the coefficient of variation\n",
    "df_summary = pd.merge(\n",
    "    get_mean_std_cv(depmap_gene_df_match), \n",
    "    get_mean_std_cv(xena_gene_df_match), \n",
    "    on = 'id', \n",
    "    suffixes=('_depmap', '_xena'))\n",
    "\n",
    "# change the size of the plot\n",
    "fig, axes = plt.subplots(1,3)\n",
    "plt.rcParams['figure.figsize'] = [12, 4]\n",
    "\n",
    "sns.scatterplot(data = df_summary, x = \"cv_depmap\", y = \"cv_xena\", size = 0.5, alpha = 0.5, ax = axes[0])\n",
    "sns.scatterplot(data = df_summary, x = \"mean_depmap\", y = \"mean_xena\", size = 0.5, alpha = 0.5, ax = axes[1])\n",
    "sns.scatterplot(data = df_summary, x = \"std_depmap\", y = \"std_xena\", size = 0.5, alpha = 0.5, ax = axes[2])\n",
    "# change labels\n",
    "axes[0].set_xlabel(\"Cell lines\")\n",
    "axes[0].set_ylabel(\"Solid tissues\")\n",
    "axes[1].set_xlabel(\"Cell lines\")\n",
    "axes[1].set_ylabel(\"Solid tissues\")\n",
    "axes[2].set_xlabel(\"Cell lines\")\n",
    "axes[2].set_ylabel(\"Solid tissues\")\n",
    "# remove legend\n",
    "axes[0].get_legend().remove()\n",
    "axes[1].get_legend().remove()\n",
    "axes[2].get_legend().remove()\n",
    "# title\n",
    "axes[0].set_title(\"Coefficient of variation\")\n",
    "axes[1].set_title(\"Mean\")\n",
    "axes[2].set_title(\"Standard deviation\")\n",
    "plt.tight_layout()\n",
    "\n",
    "plt.savefig(FOLD_PROJECT + \"data_preprocessing/plot/GEX_compare_distributions.pdf\", format = 'pdf')\n"
   ]
  },
  {
   "cell_type": "code",
   "execution_count": 14,
   "metadata": {},
   "outputs": [
    {
     "name": "stderr",
     "output_type": "stream",
     "text": [
      "/localscratch/5067872.lucia.trastulla/ipykernel_273188/2731158219.py:37: FutureWarning:\n",
      "\n",
      "The provided callable <built-in function sum> is currently using SeriesGroupBy.sum. In a future version of pandas, the provided callable will be used directly. To keep current behavior pass the string \"sum\" instead.\n",
      "\n"
     ]
    },
    {
     "data": {
      "application/vnd.plotly.v1+json": {
       "config": {
        "plotlyServerURL": "https://plot.ly"
       },
       "data": [
        {
         "link": {
          "source": [
           0,
           0,
           0,
           1,
           1,
           1,
           2,
           2,
           3,
           3,
           3,
           3,
           3,
           3,
           4,
           4,
           5,
           5,
           5,
           5,
           5,
           5,
           5,
           6,
           6,
           6,
           6,
           6,
           6,
           6,
           6,
           6,
           6,
           6,
           6,
           6,
           6,
           6,
           6,
           6,
           6,
           6,
           6,
           6,
           6,
           6,
           6,
           6,
           6,
           6,
           6,
           6,
           7,
           7,
           7,
           7,
           7,
           7,
           7,
           7,
           7,
           7,
           7,
           7,
           7,
           7,
           7,
           7,
           7,
           7,
           7,
           7,
           7,
           7,
           7,
           7,
           7,
           7,
           7,
           7,
           7,
           7,
           7,
           7,
           7,
           7,
           7,
           7,
           7,
           7,
           8,
           8,
           8,
           8,
           8,
           8,
           8,
           8,
           8,
           8,
           9,
           9,
           9,
           9,
           9,
           9,
           9,
           9,
           9,
           9,
           9,
           9,
           10,
           11,
           12,
           12,
           12,
           13,
           13,
           14
          ],
          "target": [
           3,
           4,
           5,
           3,
           4,
           5,
           3,
           5,
           6,
           7,
           8,
           9,
           10,
           11,
           7,
           12,
           6,
           7,
           8,
           9,
           10,
           13,
           14,
           15,
           16,
           17,
           18,
           19,
           20,
           21,
           22,
           23,
           24,
           25,
           26,
           27,
           28,
           29,
           30,
           31,
           32,
           33,
           34,
           35,
           36,
           37,
           38,
           39,
           40,
           41,
           42,
           58,
           16,
           17,
           18,
           19,
           20,
           21,
           22,
           23,
           24,
           25,
           26,
           27,
           28,
           30,
           31,
           32,
           33,
           34,
           35,
           37,
           38,
           39,
           40,
           41,
           42,
           44,
           46,
           47,
           48,
           49,
           50,
           51,
           52,
           53,
           54,
           55,
           56,
           57,
           16,
           23,
           24,
           28,
           30,
           31,
           32,
           34,
           37,
           58,
           18,
           22,
           23,
           25,
           26,
           27,
           32,
           33,
           35,
           37,
           39,
           40,
           43,
           44,
           22,
           45,
           47,
           43,
           58,
           43
          ],
          "value": [
           5228,
           4907,
           321,
           5268,
           2955,
           293,
           39,
           120,
           9196,
           727,
           45,
           393,
           173,
           1,
           7429,
           433,
           286,
           11,
           13,
           1,
           303,
           107,
           13,
           79,
           180,
           57,
           504,
           119,
           154,
           414,
           102,
           258,
           92,
           495,
           180,
           178,
           419,
           87,
           1011,
           369,
           1019,
           518,
           662,
           181,
           47,
           288,
           36,
           304,
           1092,
           407,
           77,
           153,
           23,
           78,
           338,
           2,
           165,
           210,
           557,
           2,
           10,
           152,
           3,
           171,
           88,
           397,
           160,
           168,
           44,
           1157,
           666,
           349,
           9,
           13,
           292,
           28,
           128,
           4,
           5,
           337,
           606,
           107,
           377,
           278,
           92,
           100,
           55,
           85,
           515,
           396,
           1,
           3,
           1,
           8,
           2,
           2,
           5,
           27,
           1,
           8,
           8,
           367,
           1,
           1,
           2,
           1,
           1,
           2,
           1,
           1,
           2,
           7,
           476,
           1,
           256,
           70,
           107,
           106,
           1,
           13
          ]
         },
         "node": {
          "label": [
           "Male",
           "Female",
           null,
           "TCGA",
           "GTEX",
           "TARGET",
           "Primary Tumor",
           "Normal Tissue",
           "Recurrent Tumor",
           "Metastatic",
           "Primary Blood Derived Cancer",
           "Control Analyte",
           "Cell Line",
           "Recurrent Blood Derived Cancer",
           "Post treatment Blood Cancer",
           "Eye",
           "Endometrium",
           "Uterus",
           "Thyroid",
           "Thymus",
           "Testis",
           "Stomach",
           "Skin",
           "Soft tissue,Bone",
           "Rectum",
           "Prostate",
           "Paraganglia",
           "Pancreas",
           "Ovary",
           "Lining of body cavities",
           "Lung",
           "Liver",
           "Kidney",
           "Head and Neck region",
           "Brain",
           "Esophagus",
           "Lymphatic tissue",
           "Colon",
           "Bile duct",
           "Cervix",
           "Breast",
           "Bladder",
           "Adrenal gland",
           "White blood cell",
           null,
           "Bone Marrow",
           "Fallopian Tube",
           "Blood",
           "Blood Vessel",
           "Pituitary",
           "Heart",
           "Nerve",
           "Small Intestine",
           "Spleen",
           "Salivary Gland",
           "Vagina",
           "Adipose Tissue",
           "Muscle",
           "SympatheticÊNervous System"
          ],
          "pad": 50,
          "thickness": 20
         },
         "type": "sankey"
        }
       ],
       "layout": {
        "autosize": false,
        "font": {
         "size": 15
        },
        "height": 1000,
        "template": {
         "data": {
          "bar": [
           {
            "error_x": {
             "color": "#2a3f5f"
            },
            "error_y": {
             "color": "#2a3f5f"
            },
            "marker": {
             "line": {
              "color": "#E5ECF6",
              "width": 0.5
             },
             "pattern": {
              "fillmode": "overlay",
              "size": 10,
              "solidity": 0.2
             }
            },
            "type": "bar"
           }
          ],
          "barpolar": [
           {
            "marker": {
             "line": {
              "color": "#E5ECF6",
              "width": 0.5
             },
             "pattern": {
              "fillmode": "overlay",
              "size": 10,
              "solidity": 0.2
             }
            },
            "type": "barpolar"
           }
          ],
          "carpet": [
           {
            "aaxis": {
             "endlinecolor": "#2a3f5f",
             "gridcolor": "white",
             "linecolor": "white",
             "minorgridcolor": "white",
             "startlinecolor": "#2a3f5f"
            },
            "baxis": {
             "endlinecolor": "#2a3f5f",
             "gridcolor": "white",
             "linecolor": "white",
             "minorgridcolor": "white",
             "startlinecolor": "#2a3f5f"
            },
            "type": "carpet"
           }
          ],
          "choropleth": [
           {
            "colorbar": {
             "outlinewidth": 0,
             "ticks": ""
            },
            "type": "choropleth"
           }
          ],
          "contour": [
           {
            "colorbar": {
             "outlinewidth": 0,
             "ticks": ""
            },
            "colorscale": [
             [
              0,
              "#0d0887"
             ],
             [
              0.1111111111111111,
              "#46039f"
             ],
             [
              0.2222222222222222,
              "#7201a8"
             ],
             [
              0.3333333333333333,
              "#9c179e"
             ],
             [
              0.4444444444444444,
              "#bd3786"
             ],
             [
              0.5555555555555556,
              "#d8576b"
             ],
             [
              0.6666666666666666,
              "#ed7953"
             ],
             [
              0.7777777777777778,
              "#fb9f3a"
             ],
             [
              0.8888888888888888,
              "#fdca26"
             ],
             [
              1,
              "#f0f921"
             ]
            ],
            "type": "contour"
           }
          ],
          "contourcarpet": [
           {
            "colorbar": {
             "outlinewidth": 0,
             "ticks": ""
            },
            "type": "contourcarpet"
           }
          ],
          "heatmap": [
           {
            "colorbar": {
             "outlinewidth": 0,
             "ticks": ""
            },
            "colorscale": [
             [
              0,
              "#0d0887"
             ],
             [
              0.1111111111111111,
              "#46039f"
             ],
             [
              0.2222222222222222,
              "#7201a8"
             ],
             [
              0.3333333333333333,
              "#9c179e"
             ],
             [
              0.4444444444444444,
              "#bd3786"
             ],
             [
              0.5555555555555556,
              "#d8576b"
             ],
             [
              0.6666666666666666,
              "#ed7953"
             ],
             [
              0.7777777777777778,
              "#fb9f3a"
             ],
             [
              0.8888888888888888,
              "#fdca26"
             ],
             [
              1,
              "#f0f921"
             ]
            ],
            "type": "heatmap"
           }
          ],
          "heatmapgl": [
           {
            "colorbar": {
             "outlinewidth": 0,
             "ticks": ""
            },
            "colorscale": [
             [
              0,
              "#0d0887"
             ],
             [
              0.1111111111111111,
              "#46039f"
             ],
             [
              0.2222222222222222,
              "#7201a8"
             ],
             [
              0.3333333333333333,
              "#9c179e"
             ],
             [
              0.4444444444444444,
              "#bd3786"
             ],
             [
              0.5555555555555556,
              "#d8576b"
             ],
             [
              0.6666666666666666,
              "#ed7953"
             ],
             [
              0.7777777777777778,
              "#fb9f3a"
             ],
             [
              0.8888888888888888,
              "#fdca26"
             ],
             [
              1,
              "#f0f921"
             ]
            ],
            "type": "heatmapgl"
           }
          ],
          "histogram": [
           {
            "marker": {
             "pattern": {
              "fillmode": "overlay",
              "size": 10,
              "solidity": 0.2
             }
            },
            "type": "histogram"
           }
          ],
          "histogram2d": [
           {
            "colorbar": {
             "outlinewidth": 0,
             "ticks": ""
            },
            "colorscale": [
             [
              0,
              "#0d0887"
             ],
             [
              0.1111111111111111,
              "#46039f"
             ],
             [
              0.2222222222222222,
              "#7201a8"
             ],
             [
              0.3333333333333333,
              "#9c179e"
             ],
             [
              0.4444444444444444,
              "#bd3786"
             ],
             [
              0.5555555555555556,
              "#d8576b"
             ],
             [
              0.6666666666666666,
              "#ed7953"
             ],
             [
              0.7777777777777778,
              "#fb9f3a"
             ],
             [
              0.8888888888888888,
              "#fdca26"
             ],
             [
              1,
              "#f0f921"
             ]
            ],
            "type": "histogram2d"
           }
          ],
          "histogram2dcontour": [
           {
            "colorbar": {
             "outlinewidth": 0,
             "ticks": ""
            },
            "colorscale": [
             [
              0,
              "#0d0887"
             ],
             [
              0.1111111111111111,
              "#46039f"
             ],
             [
              0.2222222222222222,
              "#7201a8"
             ],
             [
              0.3333333333333333,
              "#9c179e"
             ],
             [
              0.4444444444444444,
              "#bd3786"
             ],
             [
              0.5555555555555556,
              "#d8576b"
             ],
             [
              0.6666666666666666,
              "#ed7953"
             ],
             [
              0.7777777777777778,
              "#fb9f3a"
             ],
             [
              0.8888888888888888,
              "#fdca26"
             ],
             [
              1,
              "#f0f921"
             ]
            ],
            "type": "histogram2dcontour"
           }
          ],
          "mesh3d": [
           {
            "colorbar": {
             "outlinewidth": 0,
             "ticks": ""
            },
            "type": "mesh3d"
           }
          ],
          "parcoords": [
           {
            "line": {
             "colorbar": {
              "outlinewidth": 0,
              "ticks": ""
             }
            },
            "type": "parcoords"
           }
          ],
          "pie": [
           {
            "automargin": true,
            "type": "pie"
           }
          ],
          "scatter": [
           {
            "fillpattern": {
             "fillmode": "overlay",
             "size": 10,
             "solidity": 0.2
            },
            "type": "scatter"
           }
          ],
          "scatter3d": [
           {
            "line": {
             "colorbar": {
              "outlinewidth": 0,
              "ticks": ""
             }
            },
            "marker": {
             "colorbar": {
              "outlinewidth": 0,
              "ticks": ""
             }
            },
            "type": "scatter3d"
           }
          ],
          "scattercarpet": [
           {
            "marker": {
             "colorbar": {
              "outlinewidth": 0,
              "ticks": ""
             }
            },
            "type": "scattercarpet"
           }
          ],
          "scattergeo": [
           {
            "marker": {
             "colorbar": {
              "outlinewidth": 0,
              "ticks": ""
             }
            },
            "type": "scattergeo"
           }
          ],
          "scattergl": [
           {
            "marker": {
             "colorbar": {
              "outlinewidth": 0,
              "ticks": ""
             }
            },
            "type": "scattergl"
           }
          ],
          "scattermapbox": [
           {
            "marker": {
             "colorbar": {
              "outlinewidth": 0,
              "ticks": ""
             }
            },
            "type": "scattermapbox"
           }
          ],
          "scatterpolar": [
           {
            "marker": {
             "colorbar": {
              "outlinewidth": 0,
              "ticks": ""
             }
            },
            "type": "scatterpolar"
           }
          ],
          "scatterpolargl": [
           {
            "marker": {
             "colorbar": {
              "outlinewidth": 0,
              "ticks": ""
             }
            },
            "type": "scatterpolargl"
           }
          ],
          "scatterternary": [
           {
            "marker": {
             "colorbar": {
              "outlinewidth": 0,
              "ticks": ""
             }
            },
            "type": "scatterternary"
           }
          ],
          "surface": [
           {
            "colorbar": {
             "outlinewidth": 0,
             "ticks": ""
            },
            "colorscale": [
             [
              0,
              "#0d0887"
             ],
             [
              0.1111111111111111,
              "#46039f"
             ],
             [
              0.2222222222222222,
              "#7201a8"
             ],
             [
              0.3333333333333333,
              "#9c179e"
             ],
             [
              0.4444444444444444,
              "#bd3786"
             ],
             [
              0.5555555555555556,
              "#d8576b"
             ],
             [
              0.6666666666666666,
              "#ed7953"
             ],
             [
              0.7777777777777778,
              "#fb9f3a"
             ],
             [
              0.8888888888888888,
              "#fdca26"
             ],
             [
              1,
              "#f0f921"
             ]
            ],
            "type": "surface"
           }
          ],
          "table": [
           {
            "cells": {
             "fill": {
              "color": "#EBF0F8"
             },
             "line": {
              "color": "white"
             }
            },
            "header": {
             "fill": {
              "color": "#C8D4E3"
             },
             "line": {
              "color": "white"
             }
            },
            "type": "table"
           }
          ]
         },
         "layout": {
          "annotationdefaults": {
           "arrowcolor": "#2a3f5f",
           "arrowhead": 0,
           "arrowwidth": 1
          },
          "autotypenumbers": "strict",
          "coloraxis": {
           "colorbar": {
            "outlinewidth": 0,
            "ticks": ""
           }
          },
          "colorscale": {
           "diverging": [
            [
             0,
             "#8e0152"
            ],
            [
             0.1,
             "#c51b7d"
            ],
            [
             0.2,
             "#de77ae"
            ],
            [
             0.3,
             "#f1b6da"
            ],
            [
             0.4,
             "#fde0ef"
            ],
            [
             0.5,
             "#f7f7f7"
            ],
            [
             0.6,
             "#e6f5d0"
            ],
            [
             0.7,
             "#b8e186"
            ],
            [
             0.8,
             "#7fbc41"
            ],
            [
             0.9,
             "#4d9221"
            ],
            [
             1,
             "#276419"
            ]
           ],
           "sequential": [
            [
             0,
             "#0d0887"
            ],
            [
             0.1111111111111111,
             "#46039f"
            ],
            [
             0.2222222222222222,
             "#7201a8"
            ],
            [
             0.3333333333333333,
             "#9c179e"
            ],
            [
             0.4444444444444444,
             "#bd3786"
            ],
            [
             0.5555555555555556,
             "#d8576b"
            ],
            [
             0.6666666666666666,
             "#ed7953"
            ],
            [
             0.7777777777777778,
             "#fb9f3a"
            ],
            [
             0.8888888888888888,
             "#fdca26"
            ],
            [
             1,
             "#f0f921"
            ]
           ],
           "sequentialminus": [
            [
             0,
             "#0d0887"
            ],
            [
             0.1111111111111111,
             "#46039f"
            ],
            [
             0.2222222222222222,
             "#7201a8"
            ],
            [
             0.3333333333333333,
             "#9c179e"
            ],
            [
             0.4444444444444444,
             "#bd3786"
            ],
            [
             0.5555555555555556,
             "#d8576b"
            ],
            [
             0.6666666666666666,
             "#ed7953"
            ],
            [
             0.7777777777777778,
             "#fb9f3a"
            ],
            [
             0.8888888888888888,
             "#fdca26"
            ],
            [
             1,
             "#f0f921"
            ]
           ]
          },
          "colorway": [
           "#636efa",
           "#EF553B",
           "#00cc96",
           "#ab63fa",
           "#FFA15A",
           "#19d3f3",
           "#FF6692",
           "#B6E880",
           "#FF97FF",
           "#FECB52"
          ],
          "font": {
           "color": "#2a3f5f"
          },
          "geo": {
           "bgcolor": "white",
           "lakecolor": "white",
           "landcolor": "#E5ECF6",
           "showlakes": true,
           "showland": true,
           "subunitcolor": "white"
          },
          "hoverlabel": {
           "align": "left"
          },
          "hovermode": "closest",
          "mapbox": {
           "style": "light"
          },
          "paper_bgcolor": "white",
          "plot_bgcolor": "#E5ECF6",
          "polar": {
           "angularaxis": {
            "gridcolor": "white",
            "linecolor": "white",
            "ticks": ""
           },
           "bgcolor": "#E5ECF6",
           "radialaxis": {
            "gridcolor": "white",
            "linecolor": "white",
            "ticks": ""
           }
          },
          "scene": {
           "xaxis": {
            "backgroundcolor": "#E5ECF6",
            "gridcolor": "white",
            "gridwidth": 2,
            "linecolor": "white",
            "showbackground": true,
            "ticks": "",
            "zerolinecolor": "white"
           },
           "yaxis": {
            "backgroundcolor": "#E5ECF6",
            "gridcolor": "white",
            "gridwidth": 2,
            "linecolor": "white",
            "showbackground": true,
            "ticks": "",
            "zerolinecolor": "white"
           },
           "zaxis": {
            "backgroundcolor": "#E5ECF6",
            "gridcolor": "white",
            "gridwidth": 2,
            "linecolor": "white",
            "showbackground": true,
            "ticks": "",
            "zerolinecolor": "white"
           }
          },
          "shapedefaults": {
           "line": {
            "color": "#2a3f5f"
           }
          },
          "ternary": {
           "aaxis": {
            "gridcolor": "white",
            "linecolor": "white",
            "ticks": ""
           },
           "baxis": {
            "gridcolor": "white",
            "linecolor": "white",
            "ticks": ""
           },
           "bgcolor": "#E5ECF6",
           "caxis": {
            "gridcolor": "white",
            "linecolor": "white",
            "ticks": ""
           }
          },
          "title": {
           "x": 0.05
          },
          "xaxis": {
           "automargin": true,
           "gridcolor": "white",
           "linecolor": "white",
           "ticks": "",
           "title": {
            "standoff": 15
           },
           "zerolinecolor": "white",
           "zerolinewidth": 2
          },
          "yaxis": {
           "automargin": true,
           "gridcolor": "white",
           "linecolor": "white",
           "ticks": "",
           "title": {
            "standoff": 15
           },
           "zerolinecolor": "white",
           "zerolinewidth": 2
          }
         }
        },
        "width": 1200
       }
      },
      "text/html": [
       "<div>                            <div id=\"771c567c-f39c-4e2d-a69b-52bc1044abe2\" class=\"plotly-graph-div\" style=\"height:1000px; width:1200px;\"></div>            <script type=\"text/javascript\">                require([\"plotly\"], function(Plotly) {                    window.PLOTLYENV=window.PLOTLYENV || {};                                    if (document.getElementById(\"771c567c-f39c-4e2d-a69b-52bc1044abe2\")) {                    Plotly.newPlot(                        \"771c567c-f39c-4e2d-a69b-52bc1044abe2\",                        [{\"link\":{\"source\":[0,0,0,1,1,1,2,2,3,3,3,3,3,3,4,4,5,5,5,5,5,5,5,6,6,6,6,6,6,6,6,6,6,6,6,6,6,6,6,6,6,6,6,6,6,6,6,6,6,6,6,6,7,7,7,7,7,7,7,7,7,7,7,7,7,7,7,7,7,7,7,7,7,7,7,7,7,7,7,7,7,7,7,7,7,7,7,7,7,7,8,8,8,8,8,8,8,8,8,8,9,9,9,9,9,9,9,9,9,9,9,9,10,11,12,12,12,13,13,14],\"target\":[3,4,5,3,4,5,3,5,6,7,8,9,10,11,7,12,6,7,8,9,10,13,14,15,16,17,18,19,20,21,22,23,24,25,26,27,28,29,30,31,32,33,34,35,36,37,38,39,40,41,42,58,16,17,18,19,20,21,22,23,24,25,26,27,28,30,31,32,33,34,35,37,38,39,40,41,42,44,46,47,48,49,50,51,52,53,54,55,56,57,16,23,24,28,30,31,32,34,37,58,18,22,23,25,26,27,32,33,35,37,39,40,43,44,22,45,47,43,58,43],\"value\":[5228,4907,321,5268,2955,293,39,120,9196,727,45,393,173,1,7429,433,286,11,13,1,303,107,13,79,180,57,504,119,154,414,102,258,92,495,180,178,419,87,1011,369,1019,518,662,181,47,288,36,304,1092,407,77,153,23,78,338,2,165,210,557,2,10,152,3,171,88,397,160,168,44,1157,666,349,9,13,292,28,128,4,5,337,606,107,377,278,92,100,55,85,515,396,1,3,1,8,2,2,5,27,1,8,8,367,1,1,2,1,1,2,1,1,2,7,476,1,256,70,107,106,1,13]},\"node\":{\"label\":[\"Male\",\"Female\",null,\"TCGA\",\"GTEX\",\"TARGET\",\"Primary Tumor\",\"Normal Tissue\",\"Recurrent Tumor\",\"Metastatic\",\"Primary Blood Derived Cancer\",\"Control Analyte\",\"Cell Line\",\"Recurrent Blood Derived Cancer\",\"Post treatment Blood Cancer\",\"Eye\",\"Endometrium\",\"Uterus\",\"Thyroid\",\"Thymus\",\"Testis\",\"Stomach\",\"Skin\",\"Soft tissue,Bone\",\"Rectum\",\"Prostate\",\"Paraganglia\",\"Pancreas\",\"Ovary\",\"Lining of body cavities\",\"Lung\",\"Liver\",\"Kidney\",\"Head and Neck region\",\"Brain\",\"Esophagus\",\"Lymphatic tissue\",\"Colon\",\"Bile duct\",\"Cervix\",\"Breast\",\"Bladder\",\"Adrenal gland\",\"White blood cell\",null,\"Bone Marrow\",\"Fallopian Tube\",\"Blood\",\"Blood Vessel\",\"Pituitary\",\"Heart\",\"Nerve\",\"Small Intestine\",\"Spleen\",\"Salivary Gland\",\"Vagina\",\"Adipose Tissue\",\"Muscle\",\"Sympathetic\\u00caNervous System\"],\"pad\":50,\"thickness\":20},\"type\":\"sankey\"}],                        {\"template\":{\"data\":{\"histogram2dcontour\":[{\"type\":\"histogram2dcontour\",\"colorbar\":{\"outlinewidth\":0,\"ticks\":\"\"},\"colorscale\":[[0.0,\"#0d0887\"],[0.1111111111111111,\"#46039f\"],[0.2222222222222222,\"#7201a8\"],[0.3333333333333333,\"#9c179e\"],[0.4444444444444444,\"#bd3786\"],[0.5555555555555556,\"#d8576b\"],[0.6666666666666666,\"#ed7953\"],[0.7777777777777778,\"#fb9f3a\"],[0.8888888888888888,\"#fdca26\"],[1.0,\"#f0f921\"]]}],\"choropleth\":[{\"type\":\"choropleth\",\"colorbar\":{\"outlinewidth\":0,\"ticks\":\"\"}}],\"histogram2d\":[{\"type\":\"histogram2d\",\"colorbar\":{\"outlinewidth\":0,\"ticks\":\"\"},\"colorscale\":[[0.0,\"#0d0887\"],[0.1111111111111111,\"#46039f\"],[0.2222222222222222,\"#7201a8\"],[0.3333333333333333,\"#9c179e\"],[0.4444444444444444,\"#bd3786\"],[0.5555555555555556,\"#d8576b\"],[0.6666666666666666,\"#ed7953\"],[0.7777777777777778,\"#fb9f3a\"],[0.8888888888888888,\"#fdca26\"],[1.0,\"#f0f921\"]]}],\"heatmap\":[{\"type\":\"heatmap\",\"colorbar\":{\"outlinewidth\":0,\"ticks\":\"\"},\"colorscale\":[[0.0,\"#0d0887\"],[0.1111111111111111,\"#46039f\"],[0.2222222222222222,\"#7201a8\"],[0.3333333333333333,\"#9c179e\"],[0.4444444444444444,\"#bd3786\"],[0.5555555555555556,\"#d8576b\"],[0.6666666666666666,\"#ed7953\"],[0.7777777777777778,\"#fb9f3a\"],[0.8888888888888888,\"#fdca26\"],[1.0,\"#f0f921\"]]}],\"heatmapgl\":[{\"type\":\"heatmapgl\",\"colorbar\":{\"outlinewidth\":0,\"ticks\":\"\"},\"colorscale\":[[0.0,\"#0d0887\"],[0.1111111111111111,\"#46039f\"],[0.2222222222222222,\"#7201a8\"],[0.3333333333333333,\"#9c179e\"],[0.4444444444444444,\"#bd3786\"],[0.5555555555555556,\"#d8576b\"],[0.6666666666666666,\"#ed7953\"],[0.7777777777777778,\"#fb9f3a\"],[0.8888888888888888,\"#fdca26\"],[1.0,\"#f0f921\"]]}],\"contourcarpet\":[{\"type\":\"contourcarpet\",\"colorbar\":{\"outlinewidth\":0,\"ticks\":\"\"}}],\"contour\":[{\"type\":\"contour\",\"colorbar\":{\"outlinewidth\":0,\"ticks\":\"\"},\"colorscale\":[[0.0,\"#0d0887\"],[0.1111111111111111,\"#46039f\"],[0.2222222222222222,\"#7201a8\"],[0.3333333333333333,\"#9c179e\"],[0.4444444444444444,\"#bd3786\"],[0.5555555555555556,\"#d8576b\"],[0.6666666666666666,\"#ed7953\"],[0.7777777777777778,\"#fb9f3a\"],[0.8888888888888888,\"#fdca26\"],[1.0,\"#f0f921\"]]}],\"surface\":[{\"type\":\"surface\",\"colorbar\":{\"outlinewidth\":0,\"ticks\":\"\"},\"colorscale\":[[0.0,\"#0d0887\"],[0.1111111111111111,\"#46039f\"],[0.2222222222222222,\"#7201a8\"],[0.3333333333333333,\"#9c179e\"],[0.4444444444444444,\"#bd3786\"],[0.5555555555555556,\"#d8576b\"],[0.6666666666666666,\"#ed7953\"],[0.7777777777777778,\"#fb9f3a\"],[0.8888888888888888,\"#fdca26\"],[1.0,\"#f0f921\"]]}],\"mesh3d\":[{\"type\":\"mesh3d\",\"colorbar\":{\"outlinewidth\":0,\"ticks\":\"\"}}],\"scatter\":[{\"fillpattern\":{\"fillmode\":\"overlay\",\"size\":10,\"solidity\":0.2},\"type\":\"scatter\"}],\"parcoords\":[{\"type\":\"parcoords\",\"line\":{\"colorbar\":{\"outlinewidth\":0,\"ticks\":\"\"}}}],\"scatterpolargl\":[{\"type\":\"scatterpolargl\",\"marker\":{\"colorbar\":{\"outlinewidth\":0,\"ticks\":\"\"}}}],\"bar\":[{\"error_x\":{\"color\":\"#2a3f5f\"},\"error_y\":{\"color\":\"#2a3f5f\"},\"marker\":{\"line\":{\"color\":\"#E5ECF6\",\"width\":0.5},\"pattern\":{\"fillmode\":\"overlay\",\"size\":10,\"solidity\":0.2}},\"type\":\"bar\"}],\"scattergeo\":[{\"type\":\"scattergeo\",\"marker\":{\"colorbar\":{\"outlinewidth\":0,\"ticks\":\"\"}}}],\"scatterpolar\":[{\"type\":\"scatterpolar\",\"marker\":{\"colorbar\":{\"outlinewidth\":0,\"ticks\":\"\"}}}],\"histogram\":[{\"marker\":{\"pattern\":{\"fillmode\":\"overlay\",\"size\":10,\"solidity\":0.2}},\"type\":\"histogram\"}],\"scattergl\":[{\"type\":\"scattergl\",\"marker\":{\"colorbar\":{\"outlinewidth\":0,\"ticks\":\"\"}}}],\"scatter3d\":[{\"type\":\"scatter3d\",\"line\":{\"colorbar\":{\"outlinewidth\":0,\"ticks\":\"\"}},\"marker\":{\"colorbar\":{\"outlinewidth\":0,\"ticks\":\"\"}}}],\"scattermapbox\":[{\"type\":\"scattermapbox\",\"marker\":{\"colorbar\":{\"outlinewidth\":0,\"ticks\":\"\"}}}],\"scatterternary\":[{\"type\":\"scatterternary\",\"marker\":{\"colorbar\":{\"outlinewidth\":0,\"ticks\":\"\"}}}],\"scattercarpet\":[{\"type\":\"scattercarpet\",\"marker\":{\"colorbar\":{\"outlinewidth\":0,\"ticks\":\"\"}}}],\"carpet\":[{\"aaxis\":{\"endlinecolor\":\"#2a3f5f\",\"gridcolor\":\"white\",\"linecolor\":\"white\",\"minorgridcolor\":\"white\",\"startlinecolor\":\"#2a3f5f\"},\"baxis\":{\"endlinecolor\":\"#2a3f5f\",\"gridcolor\":\"white\",\"linecolor\":\"white\",\"minorgridcolor\":\"white\",\"startlinecolor\":\"#2a3f5f\"},\"type\":\"carpet\"}],\"table\":[{\"cells\":{\"fill\":{\"color\":\"#EBF0F8\"},\"line\":{\"color\":\"white\"}},\"header\":{\"fill\":{\"color\":\"#C8D4E3\"},\"line\":{\"color\":\"white\"}},\"type\":\"table\"}],\"barpolar\":[{\"marker\":{\"line\":{\"color\":\"#E5ECF6\",\"width\":0.5},\"pattern\":{\"fillmode\":\"overlay\",\"size\":10,\"solidity\":0.2}},\"type\":\"barpolar\"}],\"pie\":[{\"automargin\":true,\"type\":\"pie\"}]},\"layout\":{\"autotypenumbers\":\"strict\",\"colorway\":[\"#636efa\",\"#EF553B\",\"#00cc96\",\"#ab63fa\",\"#FFA15A\",\"#19d3f3\",\"#FF6692\",\"#B6E880\",\"#FF97FF\",\"#FECB52\"],\"font\":{\"color\":\"#2a3f5f\"},\"hovermode\":\"closest\",\"hoverlabel\":{\"align\":\"left\"},\"paper_bgcolor\":\"white\",\"plot_bgcolor\":\"#E5ECF6\",\"polar\":{\"bgcolor\":\"#E5ECF6\",\"angularaxis\":{\"gridcolor\":\"white\",\"linecolor\":\"white\",\"ticks\":\"\"},\"radialaxis\":{\"gridcolor\":\"white\",\"linecolor\":\"white\",\"ticks\":\"\"}},\"ternary\":{\"bgcolor\":\"#E5ECF6\",\"aaxis\":{\"gridcolor\":\"white\",\"linecolor\":\"white\",\"ticks\":\"\"},\"baxis\":{\"gridcolor\":\"white\",\"linecolor\":\"white\",\"ticks\":\"\"},\"caxis\":{\"gridcolor\":\"white\",\"linecolor\":\"white\",\"ticks\":\"\"}},\"coloraxis\":{\"colorbar\":{\"outlinewidth\":0,\"ticks\":\"\"}},\"colorscale\":{\"sequential\":[[0.0,\"#0d0887\"],[0.1111111111111111,\"#46039f\"],[0.2222222222222222,\"#7201a8\"],[0.3333333333333333,\"#9c179e\"],[0.4444444444444444,\"#bd3786\"],[0.5555555555555556,\"#d8576b\"],[0.6666666666666666,\"#ed7953\"],[0.7777777777777778,\"#fb9f3a\"],[0.8888888888888888,\"#fdca26\"],[1.0,\"#f0f921\"]],\"sequentialminus\":[[0.0,\"#0d0887\"],[0.1111111111111111,\"#46039f\"],[0.2222222222222222,\"#7201a8\"],[0.3333333333333333,\"#9c179e\"],[0.4444444444444444,\"#bd3786\"],[0.5555555555555556,\"#d8576b\"],[0.6666666666666666,\"#ed7953\"],[0.7777777777777778,\"#fb9f3a\"],[0.8888888888888888,\"#fdca26\"],[1.0,\"#f0f921\"]],\"diverging\":[[0,\"#8e0152\"],[0.1,\"#c51b7d\"],[0.2,\"#de77ae\"],[0.3,\"#f1b6da\"],[0.4,\"#fde0ef\"],[0.5,\"#f7f7f7\"],[0.6,\"#e6f5d0\"],[0.7,\"#b8e186\"],[0.8,\"#7fbc41\"],[0.9,\"#4d9221\"],[1,\"#276419\"]]},\"xaxis\":{\"gridcolor\":\"white\",\"linecolor\":\"white\",\"ticks\":\"\",\"title\":{\"standoff\":15},\"zerolinecolor\":\"white\",\"automargin\":true,\"zerolinewidth\":2},\"yaxis\":{\"gridcolor\":\"white\",\"linecolor\":\"white\",\"ticks\":\"\",\"title\":{\"standoff\":15},\"zerolinecolor\":\"white\",\"automargin\":true,\"zerolinewidth\":2},\"scene\":{\"xaxis\":{\"backgroundcolor\":\"#E5ECF6\",\"gridcolor\":\"white\",\"linecolor\":\"white\",\"showbackground\":true,\"ticks\":\"\",\"zerolinecolor\":\"white\",\"gridwidth\":2},\"yaxis\":{\"backgroundcolor\":\"#E5ECF6\",\"gridcolor\":\"white\",\"linecolor\":\"white\",\"showbackground\":true,\"ticks\":\"\",\"zerolinecolor\":\"white\",\"gridwidth\":2},\"zaxis\":{\"backgroundcolor\":\"#E5ECF6\",\"gridcolor\":\"white\",\"linecolor\":\"white\",\"showbackground\":true,\"ticks\":\"\",\"zerolinecolor\":\"white\",\"gridwidth\":2}},\"shapedefaults\":{\"line\":{\"color\":\"#2a3f5f\"}},\"annotationdefaults\":{\"arrowcolor\":\"#2a3f5f\",\"arrowhead\":0,\"arrowwidth\":1},\"geo\":{\"bgcolor\":\"white\",\"landcolor\":\"#E5ECF6\",\"subunitcolor\":\"white\",\"showland\":true,\"showlakes\":true,\"lakecolor\":\"white\"},\"title\":{\"x\":0.05},\"mapbox\":{\"style\":\"light\"}}},\"font\":{\"size\":15},\"autosize\":false,\"width\":1200,\"height\":1000},                        {\"responsive\": true}                    ).then(function(){\n",
       "                            \n",
       "var gd = document.getElementById('771c567c-f39c-4e2d-a69b-52bc1044abe2');\n",
       "var x = new MutationObserver(function (mutations, observer) {{\n",
       "        var display = window.getComputedStyle(gd).display;\n",
       "        if (!display || display === 'none') {{\n",
       "            console.log([gd, 'removed!']);\n",
       "            Plotly.purge(gd);\n",
       "            observer.disconnect();\n",
       "        }}\n",
       "}});\n",
       "\n",
       "// Listen for the removal of the full notebook cells\n",
       "var notebookContainer = gd.closest('#notebook-container');\n",
       "if (notebookContainer) {{\n",
       "    x.observe(notebookContainer, {childList: true});\n",
       "}}\n",
       "\n",
       "// Listen for the clearing of the current output cell\n",
       "var outputEl = gd.closest('.output');\n",
       "if (outputEl) {{\n",
       "    x.observe(outputEl, {childList: true});\n",
       "}}\n",
       "\n",
       "                        })                };                });            </script>        </div>"
      ]
     },
     "metadata": {},
     "output_type": "display_data"
    }
   ],
   "source": [
    "# plot info on samples (solid tissues)\n",
    "xena_samples = xena_sample_df.index.intersection(tot_gene_df.index)\n",
    "xena_sample_df = xena_sample_df.loc[xena_samples]\n",
    "\n",
    "vals_to_replace = {\"Solid Tissue Normal\": \"Normal Tissue\", \n",
    "                   \"Primary Solid Tumor\": \"Primary Tumor\", \n",
    "                   \"Recurrent Solid Tumor\": \"Recurrent Tumor\",\n",
    "                   \"Additional - New Primary\": \"Primary Tumor\", \n",
    "                   \"Additional Metastatic\": \"Metastatic\", \n",
    "                   \"Primary Blood Derived Cancer - Peripheral Blood\": \"Primary Blood Derived Cancer\", \n",
    "                   \"Primary Blood Derived Cancer - Bone Marrow\": \"Primary Blood Derived Cancer\", \n",
    "                   \"Recurrent Blood Derived Cancer - Bone Marrow\": \"Recurrent Blood Derived Cancer\",\n",
    "                   \"Recurrent Blood Derived Cancer - Peripheral Blood\": \"Recurrent Blood Derived Cancer\", \n",
    "                   \"Post treatment Blood Cancer - Bone Marrow\": \"Post treatment Blood Cancer\", \n",
    "                   \"Post treatment Blood Cancer - Peripheral Blood\": \"Post treatment Blood Cancer\", \n",
    "                   \"Post treatment Blood Cancer - Blood\": \"Post treatment Blood Cancer\"}\n",
    "xena_sample_df[\"_sample_type\"] = xena_sample_df[\"_sample_type\"].replace(vals_to_replace)\n",
    "\n",
    "vals_to_replace = {\"Thyroid Gland\": \"Thyroid\",\n",
    "                   \"Cervix Uteri\": \"Cervix\",\n",
    "                   \"Adrenal Gland\": \"Adrenal gland\"}\n",
    "xena_sample_df[\"_primary_site\"] = xena_sample_df[\"_primary_site\"].replace(vals_to_replace)\n",
    "\n",
    "# plot sample info (sankey plot)\n",
    "tmp = xena_sample_df\n",
    "tmp[\"weight\"] = 1\n",
    "link_sankey_plot = generate_sankey_chart_data(tmp, ['_gender', '_study', '_sample_type', '_primary_site'], 'weight')\n",
    "\n",
    "# make plot\n",
    "node = dict(label = link_sankey_plot[0], pad = 50, thickness = 20)\n",
    "link = dict(source = link_sankey_plot[1], target = link_sankey_plot[2], value = link_sankey_plot[3])\n",
    "data_plot = go.Sankey(link=link, node=node)\n",
    "fig = go.Figure(data_plot)\n",
    "fig.update_layout(\n",
    "    autosize=False,\n",
    "    width=1200,\n",
    "    height=1000, \n",
    "    font_size=15\n",
    ")\n",
    "fig.show()\n",
    "fig.write_image(FOLD_PROJECT + \"data_preprocessing/plot/samples_TCGA_TARGET_GTEX.pdf\")"
   ]
  },
  {
   "cell_type": "code",
   "execution_count": 37,
   "metadata": {},
   "outputs": [
    {
     "name": "stderr",
     "output_type": "stream",
     "text": [
      "/localscratch/5067872.lucia.trastulla/ipykernel_273188/2731158219.py:37: FutureWarning:\n",
      "\n",
      "The provided callable <built-in function sum> is currently using SeriesGroupBy.sum. In a future version of pandas, the provided callable will be used directly. To keep current behavior pass the string \"sum\" instead.\n",
      "\n"
     ]
    },
    {
     "data": {
      "application/vnd.plotly.v1+json": {
       "config": {
        "plotlyServerURL": "https://plot.ly"
       },
       "data": [
        {
         "link": {
          "source": [
           0,
           0,
           0,
           0,
           0,
           1,
           1,
           1,
           1,
           1,
           2,
           2,
           2,
           2,
           3,
           3,
           3,
           3,
           4,
           4,
           4,
           4,
           5,
           5,
           5,
           5,
           6,
           6,
           6,
           7,
           7,
           7,
           8,
           8,
           8,
           8,
           8,
           8,
           8,
           8,
           8,
           8,
           8,
           8,
           8,
           8,
           8,
           8,
           8,
           8,
           8,
           8,
           8,
           8,
           8,
           8,
           8,
           8,
           9,
           9,
           9,
           9,
           9,
           9,
           9,
           9,
           9,
           9,
           9,
           9,
           9,
           9,
           9,
           9,
           9,
           9,
           9,
           9,
           9,
           9,
           9,
           9,
           9,
           9,
           9,
           9,
           9,
           10,
           10,
           10,
           10,
           10,
           10,
           10,
           10,
           10,
           10,
           10,
           10,
           10,
           10,
           10,
           10,
           11,
           11,
           11
          ],
          "target": [
           3,
           4,
           5,
           6,
           7,
           3,
           4,
           5,
           6,
           7,
           3,
           4,
           5,
           7,
           8,
           9,
           10,
           11,
           8,
           9,
           10,
           11,
           8,
           9,
           10,
           11,
           8,
           9,
           10,
           8,
           9,
           11,
           12,
           13,
           14,
           15,
           16,
           17,
           18,
           19,
           20,
           21,
           22,
           23,
           24,
           25,
           26,
           27,
           28,
           29,
           30,
           31,
           32,
           33,
           35,
           36,
           37,
           40,
           12,
           13,
           14,
           15,
           16,
           17,
           18,
           19,
           20,
           21,
           22,
           23,
           24,
           25,
           26,
           27,
           28,
           29,
           30,
           31,
           32,
           33,
           34,
           35,
           36,
           37,
           38,
           39,
           40,
           12,
           13,
           17,
           18,
           19,
           20,
           22,
           23,
           24,
           25,
           28,
           29,
           30,
           32,
           34,
           37,
           21,
           22,
           27
          ],
          "value": [
           461,
           102,
           30,
           6,
           9,
           564,
           150,
           46,
           6,
           9,
           53,
           5,
           3,
           6,
           340,
           639,
           94,
           5,
           64,
           136,
           56,
           1,
           33,
           39,
           6,
           1,
           2,
           4,
           6,
           14,
           5,
           5,
           35,
           6,
           20,
           56,
           7,
           99,
           10,
           35,
           22,
           24,
           2,
           12,
           6,
           4,
           6,
           20,
           5,
           5,
           44,
           8,
           9,
           5,
           2,
           6,
           4,
           1,
           29,
           42,
           56,
           33,
           30,
           91,
           29,
           32,
           86,
           29,
           83,
           10,
           30,
           9,
           10,
           13,
           13,
           6,
           33,
           30,
           40,
           35,
           3,
           24,
           14,
           8,
           2,
           1,
           2,
           2,
           14,
           1,
           4,
           1,
           49,
           11,
           22,
           4,
           25,
           3,
           1,
           7,
           11,
           1,
           6,
           5,
           1,
           6
          ]
         },
         "node": {
          "label": [
           "Female",
           "Male",
           "Unknown",
           "Adherent",
           "Suspension",
           "Mixed",
           "Unknown",
           "Organoid",
           "Metastatic",
           "Primary",
           null,
           "Unknown",
           "Ovary/Fallopian Tube",
           "Myeloid",
           "Bowel",
           "Skin",
           "Bladder/Urinary Tract",
           "Lung",
           "Kidney",
           "Breast",
           "Lymphoid",
           "Pancreas",
           "CNS/Brain",
           "Soft Tissue",
           "Bone",
           "Fibroblast",
           "Thyroid",
           "Peripheral Nervous System",
           "Pleura",
           "Prostate",
           "Esophagus/Stomach",
           "Biliary Tract",
           "Head and Neck",
           "Uterus",
           "Ampulla of Vater",
           "Liver",
           "Cervix",
           "Eye",
           "Vulva/Vagina",
           "Adrenal Gland",
           "Testis"
          ],
          "pad": 50,
          "thickness": 20
         },
         "type": "sankey"
        }
       ],
       "layout": {
        "autosize": false,
        "font": {
         "size": 15
        },
        "height": 1000,
        "template": {
         "data": {
          "bar": [
           {
            "error_x": {
             "color": "#2a3f5f"
            },
            "error_y": {
             "color": "#2a3f5f"
            },
            "marker": {
             "line": {
              "color": "#E5ECF6",
              "width": 0.5
             },
             "pattern": {
              "fillmode": "overlay",
              "size": 10,
              "solidity": 0.2
             }
            },
            "type": "bar"
           }
          ],
          "barpolar": [
           {
            "marker": {
             "line": {
              "color": "#E5ECF6",
              "width": 0.5
             },
             "pattern": {
              "fillmode": "overlay",
              "size": 10,
              "solidity": 0.2
             }
            },
            "type": "barpolar"
           }
          ],
          "carpet": [
           {
            "aaxis": {
             "endlinecolor": "#2a3f5f",
             "gridcolor": "white",
             "linecolor": "white",
             "minorgridcolor": "white",
             "startlinecolor": "#2a3f5f"
            },
            "baxis": {
             "endlinecolor": "#2a3f5f",
             "gridcolor": "white",
             "linecolor": "white",
             "minorgridcolor": "white",
             "startlinecolor": "#2a3f5f"
            },
            "type": "carpet"
           }
          ],
          "choropleth": [
           {
            "colorbar": {
             "outlinewidth": 0,
             "ticks": ""
            },
            "type": "choropleth"
           }
          ],
          "contour": [
           {
            "colorbar": {
             "outlinewidth": 0,
             "ticks": ""
            },
            "colorscale": [
             [
              0,
              "#0d0887"
             ],
             [
              0.1111111111111111,
              "#46039f"
             ],
             [
              0.2222222222222222,
              "#7201a8"
             ],
             [
              0.3333333333333333,
              "#9c179e"
             ],
             [
              0.4444444444444444,
              "#bd3786"
             ],
             [
              0.5555555555555556,
              "#d8576b"
             ],
             [
              0.6666666666666666,
              "#ed7953"
             ],
             [
              0.7777777777777778,
              "#fb9f3a"
             ],
             [
              0.8888888888888888,
              "#fdca26"
             ],
             [
              1,
              "#f0f921"
             ]
            ],
            "type": "contour"
           }
          ],
          "contourcarpet": [
           {
            "colorbar": {
             "outlinewidth": 0,
             "ticks": ""
            },
            "type": "contourcarpet"
           }
          ],
          "heatmap": [
           {
            "colorbar": {
             "outlinewidth": 0,
             "ticks": ""
            },
            "colorscale": [
             [
              0,
              "#0d0887"
             ],
             [
              0.1111111111111111,
              "#46039f"
             ],
             [
              0.2222222222222222,
              "#7201a8"
             ],
             [
              0.3333333333333333,
              "#9c179e"
             ],
             [
              0.4444444444444444,
              "#bd3786"
             ],
             [
              0.5555555555555556,
              "#d8576b"
             ],
             [
              0.6666666666666666,
              "#ed7953"
             ],
             [
              0.7777777777777778,
              "#fb9f3a"
             ],
             [
              0.8888888888888888,
              "#fdca26"
             ],
             [
              1,
              "#f0f921"
             ]
            ],
            "type": "heatmap"
           }
          ],
          "heatmapgl": [
           {
            "colorbar": {
             "outlinewidth": 0,
             "ticks": ""
            },
            "colorscale": [
             [
              0,
              "#0d0887"
             ],
             [
              0.1111111111111111,
              "#46039f"
             ],
             [
              0.2222222222222222,
              "#7201a8"
             ],
             [
              0.3333333333333333,
              "#9c179e"
             ],
             [
              0.4444444444444444,
              "#bd3786"
             ],
             [
              0.5555555555555556,
              "#d8576b"
             ],
             [
              0.6666666666666666,
              "#ed7953"
             ],
             [
              0.7777777777777778,
              "#fb9f3a"
             ],
             [
              0.8888888888888888,
              "#fdca26"
             ],
             [
              1,
              "#f0f921"
             ]
            ],
            "type": "heatmapgl"
           }
          ],
          "histogram": [
           {
            "marker": {
             "pattern": {
              "fillmode": "overlay",
              "size": 10,
              "solidity": 0.2
             }
            },
            "type": "histogram"
           }
          ],
          "histogram2d": [
           {
            "colorbar": {
             "outlinewidth": 0,
             "ticks": ""
            },
            "colorscale": [
             [
              0,
              "#0d0887"
             ],
             [
              0.1111111111111111,
              "#46039f"
             ],
             [
              0.2222222222222222,
              "#7201a8"
             ],
             [
              0.3333333333333333,
              "#9c179e"
             ],
             [
              0.4444444444444444,
              "#bd3786"
             ],
             [
              0.5555555555555556,
              "#d8576b"
             ],
             [
              0.6666666666666666,
              "#ed7953"
             ],
             [
              0.7777777777777778,
              "#fb9f3a"
             ],
             [
              0.8888888888888888,
              "#fdca26"
             ],
             [
              1,
              "#f0f921"
             ]
            ],
            "type": "histogram2d"
           }
          ],
          "histogram2dcontour": [
           {
            "colorbar": {
             "outlinewidth": 0,
             "ticks": ""
            },
            "colorscale": [
             [
              0,
              "#0d0887"
             ],
             [
              0.1111111111111111,
              "#46039f"
             ],
             [
              0.2222222222222222,
              "#7201a8"
             ],
             [
              0.3333333333333333,
              "#9c179e"
             ],
             [
              0.4444444444444444,
              "#bd3786"
             ],
             [
              0.5555555555555556,
              "#d8576b"
             ],
             [
              0.6666666666666666,
              "#ed7953"
             ],
             [
              0.7777777777777778,
              "#fb9f3a"
             ],
             [
              0.8888888888888888,
              "#fdca26"
             ],
             [
              1,
              "#f0f921"
             ]
            ],
            "type": "histogram2dcontour"
           }
          ],
          "mesh3d": [
           {
            "colorbar": {
             "outlinewidth": 0,
             "ticks": ""
            },
            "type": "mesh3d"
           }
          ],
          "parcoords": [
           {
            "line": {
             "colorbar": {
              "outlinewidth": 0,
              "ticks": ""
             }
            },
            "type": "parcoords"
           }
          ],
          "pie": [
           {
            "automargin": true,
            "type": "pie"
           }
          ],
          "scatter": [
           {
            "fillpattern": {
             "fillmode": "overlay",
             "size": 10,
             "solidity": 0.2
            },
            "type": "scatter"
           }
          ],
          "scatter3d": [
           {
            "line": {
             "colorbar": {
              "outlinewidth": 0,
              "ticks": ""
             }
            },
            "marker": {
             "colorbar": {
              "outlinewidth": 0,
              "ticks": ""
             }
            },
            "type": "scatter3d"
           }
          ],
          "scattercarpet": [
           {
            "marker": {
             "colorbar": {
              "outlinewidth": 0,
              "ticks": ""
             }
            },
            "type": "scattercarpet"
           }
          ],
          "scattergeo": [
           {
            "marker": {
             "colorbar": {
              "outlinewidth": 0,
              "ticks": ""
             }
            },
            "type": "scattergeo"
           }
          ],
          "scattergl": [
           {
            "marker": {
             "colorbar": {
              "outlinewidth": 0,
              "ticks": ""
             }
            },
            "type": "scattergl"
           }
          ],
          "scattermapbox": [
           {
            "marker": {
             "colorbar": {
              "outlinewidth": 0,
              "ticks": ""
             }
            },
            "type": "scattermapbox"
           }
          ],
          "scatterpolar": [
           {
            "marker": {
             "colorbar": {
              "outlinewidth": 0,
              "ticks": ""
             }
            },
            "type": "scatterpolar"
           }
          ],
          "scatterpolargl": [
           {
            "marker": {
             "colorbar": {
              "outlinewidth": 0,
              "ticks": ""
             }
            },
            "type": "scatterpolargl"
           }
          ],
          "scatterternary": [
           {
            "marker": {
             "colorbar": {
              "outlinewidth": 0,
              "ticks": ""
             }
            },
            "type": "scatterternary"
           }
          ],
          "surface": [
           {
            "colorbar": {
             "outlinewidth": 0,
             "ticks": ""
            },
            "colorscale": [
             [
              0,
              "#0d0887"
             ],
             [
              0.1111111111111111,
              "#46039f"
             ],
             [
              0.2222222222222222,
              "#7201a8"
             ],
             [
              0.3333333333333333,
              "#9c179e"
             ],
             [
              0.4444444444444444,
              "#bd3786"
             ],
             [
              0.5555555555555556,
              "#d8576b"
             ],
             [
              0.6666666666666666,
              "#ed7953"
             ],
             [
              0.7777777777777778,
              "#fb9f3a"
             ],
             [
              0.8888888888888888,
              "#fdca26"
             ],
             [
              1,
              "#f0f921"
             ]
            ],
            "type": "surface"
           }
          ],
          "table": [
           {
            "cells": {
             "fill": {
              "color": "#EBF0F8"
             },
             "line": {
              "color": "white"
             }
            },
            "header": {
             "fill": {
              "color": "#C8D4E3"
             },
             "line": {
              "color": "white"
             }
            },
            "type": "table"
           }
          ]
         },
         "layout": {
          "annotationdefaults": {
           "arrowcolor": "#2a3f5f",
           "arrowhead": 0,
           "arrowwidth": 1
          },
          "autotypenumbers": "strict",
          "coloraxis": {
           "colorbar": {
            "outlinewidth": 0,
            "ticks": ""
           }
          },
          "colorscale": {
           "diverging": [
            [
             0,
             "#8e0152"
            ],
            [
             0.1,
             "#c51b7d"
            ],
            [
             0.2,
             "#de77ae"
            ],
            [
             0.3,
             "#f1b6da"
            ],
            [
             0.4,
             "#fde0ef"
            ],
            [
             0.5,
             "#f7f7f7"
            ],
            [
             0.6,
             "#e6f5d0"
            ],
            [
             0.7,
             "#b8e186"
            ],
            [
             0.8,
             "#7fbc41"
            ],
            [
             0.9,
             "#4d9221"
            ],
            [
             1,
             "#276419"
            ]
           ],
           "sequential": [
            [
             0,
             "#0d0887"
            ],
            [
             0.1111111111111111,
             "#46039f"
            ],
            [
             0.2222222222222222,
             "#7201a8"
            ],
            [
             0.3333333333333333,
             "#9c179e"
            ],
            [
             0.4444444444444444,
             "#bd3786"
            ],
            [
             0.5555555555555556,
             "#d8576b"
            ],
            [
             0.6666666666666666,
             "#ed7953"
            ],
            [
             0.7777777777777778,
             "#fb9f3a"
            ],
            [
             0.8888888888888888,
             "#fdca26"
            ],
            [
             1,
             "#f0f921"
            ]
           ],
           "sequentialminus": [
            [
             0,
             "#0d0887"
            ],
            [
             0.1111111111111111,
             "#46039f"
            ],
            [
             0.2222222222222222,
             "#7201a8"
            ],
            [
             0.3333333333333333,
             "#9c179e"
            ],
            [
             0.4444444444444444,
             "#bd3786"
            ],
            [
             0.5555555555555556,
             "#d8576b"
            ],
            [
             0.6666666666666666,
             "#ed7953"
            ],
            [
             0.7777777777777778,
             "#fb9f3a"
            ],
            [
             0.8888888888888888,
             "#fdca26"
            ],
            [
             1,
             "#f0f921"
            ]
           ]
          },
          "colorway": [
           "#636efa",
           "#EF553B",
           "#00cc96",
           "#ab63fa",
           "#FFA15A",
           "#19d3f3",
           "#FF6692",
           "#B6E880",
           "#FF97FF",
           "#FECB52"
          ],
          "font": {
           "color": "#2a3f5f"
          },
          "geo": {
           "bgcolor": "white",
           "lakecolor": "white",
           "landcolor": "#E5ECF6",
           "showlakes": true,
           "showland": true,
           "subunitcolor": "white"
          },
          "hoverlabel": {
           "align": "left"
          },
          "hovermode": "closest",
          "mapbox": {
           "style": "light"
          },
          "paper_bgcolor": "white",
          "plot_bgcolor": "#E5ECF6",
          "polar": {
           "angularaxis": {
            "gridcolor": "white",
            "linecolor": "white",
            "ticks": ""
           },
           "bgcolor": "#E5ECF6",
           "radialaxis": {
            "gridcolor": "white",
            "linecolor": "white",
            "ticks": ""
           }
          },
          "scene": {
           "xaxis": {
            "backgroundcolor": "#E5ECF6",
            "gridcolor": "white",
            "gridwidth": 2,
            "linecolor": "white",
            "showbackground": true,
            "ticks": "",
            "zerolinecolor": "white"
           },
           "yaxis": {
            "backgroundcolor": "#E5ECF6",
            "gridcolor": "white",
            "gridwidth": 2,
            "linecolor": "white",
            "showbackground": true,
            "ticks": "",
            "zerolinecolor": "white"
           },
           "zaxis": {
            "backgroundcolor": "#E5ECF6",
            "gridcolor": "white",
            "gridwidth": 2,
            "linecolor": "white",
            "showbackground": true,
            "ticks": "",
            "zerolinecolor": "white"
           }
          },
          "shapedefaults": {
           "line": {
            "color": "#2a3f5f"
           }
          },
          "ternary": {
           "aaxis": {
            "gridcolor": "white",
            "linecolor": "white",
            "ticks": ""
           },
           "baxis": {
            "gridcolor": "white",
            "linecolor": "white",
            "ticks": ""
           },
           "bgcolor": "#E5ECF6",
           "caxis": {
            "gridcolor": "white",
            "linecolor": "white",
            "ticks": ""
           }
          },
          "title": {
           "x": 0.05
          },
          "xaxis": {
           "automargin": true,
           "gridcolor": "white",
           "linecolor": "white",
           "ticks": "",
           "title": {
            "standoff": 15
           },
           "zerolinecolor": "white",
           "zerolinewidth": 2
          },
          "yaxis": {
           "automargin": true,
           "gridcolor": "white",
           "linecolor": "white",
           "ticks": "",
           "title": {
            "standoff": 15
           },
           "zerolinecolor": "white",
           "zerolinewidth": 2
          }
         }
        },
        "width": 1200
       }
      },
      "text/html": [
       "<div>                            <div id=\"5e8746ce-a53c-425a-ac8c-de339b3e1c10\" class=\"plotly-graph-div\" style=\"height:1000px; width:1200px;\"></div>            <script type=\"text/javascript\">                require([\"plotly\"], function(Plotly) {                    window.PLOTLYENV=window.PLOTLYENV || {};                                    if (document.getElementById(\"5e8746ce-a53c-425a-ac8c-de339b3e1c10\")) {                    Plotly.newPlot(                        \"5e8746ce-a53c-425a-ac8c-de339b3e1c10\",                        [{\"link\":{\"source\":[0,0,0,0,0,1,1,1,1,1,2,2,2,2,3,3,3,3,4,4,4,4,5,5,5,5,6,6,6,7,7,7,8,8,8,8,8,8,8,8,8,8,8,8,8,8,8,8,8,8,8,8,8,8,8,8,8,8,9,9,9,9,9,9,9,9,9,9,9,9,9,9,9,9,9,9,9,9,9,9,9,9,9,9,9,9,9,10,10,10,10,10,10,10,10,10,10,10,10,10,10,10,10,11,11,11],\"target\":[3,4,5,6,7,3,4,5,6,7,3,4,5,7,8,9,10,11,8,9,10,11,8,9,10,11,8,9,10,8,9,11,12,13,14,15,16,17,18,19,20,21,22,23,24,25,26,27,28,29,30,31,32,33,35,36,37,40,12,13,14,15,16,17,18,19,20,21,22,23,24,25,26,27,28,29,30,31,32,33,34,35,36,37,38,39,40,12,13,17,18,19,20,22,23,24,25,28,29,30,32,34,37,21,22,27],\"value\":[461,102,30,6,9,564,150,46,6,9,53,5,3,6,340,639,94,5,64,136,56,1,33,39,6,1,2,4,6,14,5,5,35,6,20,56,7,99,10,35,22,24,2,12,6,4,6,20,5,5,44,8,9,5,2,6,4,1,29,42,56,33,30,91,29,32,86,29,83,10,30,9,10,13,13,6,33,30,40,35,3,24,14,8,2,1,2,2,14,1,4,1,49,11,22,4,25,3,1,7,11,1,6,5,1,6]},\"node\":{\"label\":[\"Female\",\"Male\",\"Unknown\",\"Adherent\",\"Suspension\",\"Mixed\",\"Unknown\",\"Organoid\",\"Metastatic\",\"Primary\",null,\"Unknown\",\"Ovary\\u002fFallopian Tube\",\"Myeloid\",\"Bowel\",\"Skin\",\"Bladder\\u002fUrinary Tract\",\"Lung\",\"Kidney\",\"Breast\",\"Lymphoid\",\"Pancreas\",\"CNS\\u002fBrain\",\"Soft Tissue\",\"Bone\",\"Fibroblast\",\"Thyroid\",\"Peripheral Nervous System\",\"Pleura\",\"Prostate\",\"Esophagus\\u002fStomach\",\"Biliary Tract\",\"Head and Neck\",\"Uterus\",\"Ampulla of Vater\",\"Liver\",\"Cervix\",\"Eye\",\"Vulva\\u002fVagina\",\"Adrenal Gland\",\"Testis\"],\"pad\":50,\"thickness\":20},\"type\":\"sankey\"}],                        {\"template\":{\"data\":{\"histogram2dcontour\":[{\"type\":\"histogram2dcontour\",\"colorbar\":{\"outlinewidth\":0,\"ticks\":\"\"},\"colorscale\":[[0.0,\"#0d0887\"],[0.1111111111111111,\"#46039f\"],[0.2222222222222222,\"#7201a8\"],[0.3333333333333333,\"#9c179e\"],[0.4444444444444444,\"#bd3786\"],[0.5555555555555556,\"#d8576b\"],[0.6666666666666666,\"#ed7953\"],[0.7777777777777778,\"#fb9f3a\"],[0.8888888888888888,\"#fdca26\"],[1.0,\"#f0f921\"]]}],\"choropleth\":[{\"type\":\"choropleth\",\"colorbar\":{\"outlinewidth\":0,\"ticks\":\"\"}}],\"histogram2d\":[{\"type\":\"histogram2d\",\"colorbar\":{\"outlinewidth\":0,\"ticks\":\"\"},\"colorscale\":[[0.0,\"#0d0887\"],[0.1111111111111111,\"#46039f\"],[0.2222222222222222,\"#7201a8\"],[0.3333333333333333,\"#9c179e\"],[0.4444444444444444,\"#bd3786\"],[0.5555555555555556,\"#d8576b\"],[0.6666666666666666,\"#ed7953\"],[0.7777777777777778,\"#fb9f3a\"],[0.8888888888888888,\"#fdca26\"],[1.0,\"#f0f921\"]]}],\"heatmap\":[{\"type\":\"heatmap\",\"colorbar\":{\"outlinewidth\":0,\"ticks\":\"\"},\"colorscale\":[[0.0,\"#0d0887\"],[0.1111111111111111,\"#46039f\"],[0.2222222222222222,\"#7201a8\"],[0.3333333333333333,\"#9c179e\"],[0.4444444444444444,\"#bd3786\"],[0.5555555555555556,\"#d8576b\"],[0.6666666666666666,\"#ed7953\"],[0.7777777777777778,\"#fb9f3a\"],[0.8888888888888888,\"#fdca26\"],[1.0,\"#f0f921\"]]}],\"heatmapgl\":[{\"type\":\"heatmapgl\",\"colorbar\":{\"outlinewidth\":0,\"ticks\":\"\"},\"colorscale\":[[0.0,\"#0d0887\"],[0.1111111111111111,\"#46039f\"],[0.2222222222222222,\"#7201a8\"],[0.3333333333333333,\"#9c179e\"],[0.4444444444444444,\"#bd3786\"],[0.5555555555555556,\"#d8576b\"],[0.6666666666666666,\"#ed7953\"],[0.7777777777777778,\"#fb9f3a\"],[0.8888888888888888,\"#fdca26\"],[1.0,\"#f0f921\"]]}],\"contourcarpet\":[{\"type\":\"contourcarpet\",\"colorbar\":{\"outlinewidth\":0,\"ticks\":\"\"}}],\"contour\":[{\"type\":\"contour\",\"colorbar\":{\"outlinewidth\":0,\"ticks\":\"\"},\"colorscale\":[[0.0,\"#0d0887\"],[0.1111111111111111,\"#46039f\"],[0.2222222222222222,\"#7201a8\"],[0.3333333333333333,\"#9c179e\"],[0.4444444444444444,\"#bd3786\"],[0.5555555555555556,\"#d8576b\"],[0.6666666666666666,\"#ed7953\"],[0.7777777777777778,\"#fb9f3a\"],[0.8888888888888888,\"#fdca26\"],[1.0,\"#f0f921\"]]}],\"surface\":[{\"type\":\"surface\",\"colorbar\":{\"outlinewidth\":0,\"ticks\":\"\"},\"colorscale\":[[0.0,\"#0d0887\"],[0.1111111111111111,\"#46039f\"],[0.2222222222222222,\"#7201a8\"],[0.3333333333333333,\"#9c179e\"],[0.4444444444444444,\"#bd3786\"],[0.5555555555555556,\"#d8576b\"],[0.6666666666666666,\"#ed7953\"],[0.7777777777777778,\"#fb9f3a\"],[0.8888888888888888,\"#fdca26\"],[1.0,\"#f0f921\"]]}],\"mesh3d\":[{\"type\":\"mesh3d\",\"colorbar\":{\"outlinewidth\":0,\"ticks\":\"\"}}],\"scatter\":[{\"fillpattern\":{\"fillmode\":\"overlay\",\"size\":10,\"solidity\":0.2},\"type\":\"scatter\"}],\"parcoords\":[{\"type\":\"parcoords\",\"line\":{\"colorbar\":{\"outlinewidth\":0,\"ticks\":\"\"}}}],\"scatterpolargl\":[{\"type\":\"scatterpolargl\",\"marker\":{\"colorbar\":{\"outlinewidth\":0,\"ticks\":\"\"}}}],\"bar\":[{\"error_x\":{\"color\":\"#2a3f5f\"},\"error_y\":{\"color\":\"#2a3f5f\"},\"marker\":{\"line\":{\"color\":\"#E5ECF6\",\"width\":0.5},\"pattern\":{\"fillmode\":\"overlay\",\"size\":10,\"solidity\":0.2}},\"type\":\"bar\"}],\"scattergeo\":[{\"type\":\"scattergeo\",\"marker\":{\"colorbar\":{\"outlinewidth\":0,\"ticks\":\"\"}}}],\"scatterpolar\":[{\"type\":\"scatterpolar\",\"marker\":{\"colorbar\":{\"outlinewidth\":0,\"ticks\":\"\"}}}],\"histogram\":[{\"marker\":{\"pattern\":{\"fillmode\":\"overlay\",\"size\":10,\"solidity\":0.2}},\"type\":\"histogram\"}],\"scattergl\":[{\"type\":\"scattergl\",\"marker\":{\"colorbar\":{\"outlinewidth\":0,\"ticks\":\"\"}}}],\"scatter3d\":[{\"type\":\"scatter3d\",\"line\":{\"colorbar\":{\"outlinewidth\":0,\"ticks\":\"\"}},\"marker\":{\"colorbar\":{\"outlinewidth\":0,\"ticks\":\"\"}}}],\"scattermapbox\":[{\"type\":\"scattermapbox\",\"marker\":{\"colorbar\":{\"outlinewidth\":0,\"ticks\":\"\"}}}],\"scatterternary\":[{\"type\":\"scatterternary\",\"marker\":{\"colorbar\":{\"outlinewidth\":0,\"ticks\":\"\"}}}],\"scattercarpet\":[{\"type\":\"scattercarpet\",\"marker\":{\"colorbar\":{\"outlinewidth\":0,\"ticks\":\"\"}}}],\"carpet\":[{\"aaxis\":{\"endlinecolor\":\"#2a3f5f\",\"gridcolor\":\"white\",\"linecolor\":\"white\",\"minorgridcolor\":\"white\",\"startlinecolor\":\"#2a3f5f\"},\"baxis\":{\"endlinecolor\":\"#2a3f5f\",\"gridcolor\":\"white\",\"linecolor\":\"white\",\"minorgridcolor\":\"white\",\"startlinecolor\":\"#2a3f5f\"},\"type\":\"carpet\"}],\"table\":[{\"cells\":{\"fill\":{\"color\":\"#EBF0F8\"},\"line\":{\"color\":\"white\"}},\"header\":{\"fill\":{\"color\":\"#C8D4E3\"},\"line\":{\"color\":\"white\"}},\"type\":\"table\"}],\"barpolar\":[{\"marker\":{\"line\":{\"color\":\"#E5ECF6\",\"width\":0.5},\"pattern\":{\"fillmode\":\"overlay\",\"size\":10,\"solidity\":0.2}},\"type\":\"barpolar\"}],\"pie\":[{\"automargin\":true,\"type\":\"pie\"}]},\"layout\":{\"autotypenumbers\":\"strict\",\"colorway\":[\"#636efa\",\"#EF553B\",\"#00cc96\",\"#ab63fa\",\"#FFA15A\",\"#19d3f3\",\"#FF6692\",\"#B6E880\",\"#FF97FF\",\"#FECB52\"],\"font\":{\"color\":\"#2a3f5f\"},\"hovermode\":\"closest\",\"hoverlabel\":{\"align\":\"left\"},\"paper_bgcolor\":\"white\",\"plot_bgcolor\":\"#E5ECF6\",\"polar\":{\"bgcolor\":\"#E5ECF6\",\"angularaxis\":{\"gridcolor\":\"white\",\"linecolor\":\"white\",\"ticks\":\"\"},\"radialaxis\":{\"gridcolor\":\"white\",\"linecolor\":\"white\",\"ticks\":\"\"}},\"ternary\":{\"bgcolor\":\"#E5ECF6\",\"aaxis\":{\"gridcolor\":\"white\",\"linecolor\":\"white\",\"ticks\":\"\"},\"baxis\":{\"gridcolor\":\"white\",\"linecolor\":\"white\",\"ticks\":\"\"},\"caxis\":{\"gridcolor\":\"white\",\"linecolor\":\"white\",\"ticks\":\"\"}},\"coloraxis\":{\"colorbar\":{\"outlinewidth\":0,\"ticks\":\"\"}},\"colorscale\":{\"sequential\":[[0.0,\"#0d0887\"],[0.1111111111111111,\"#46039f\"],[0.2222222222222222,\"#7201a8\"],[0.3333333333333333,\"#9c179e\"],[0.4444444444444444,\"#bd3786\"],[0.5555555555555556,\"#d8576b\"],[0.6666666666666666,\"#ed7953\"],[0.7777777777777778,\"#fb9f3a\"],[0.8888888888888888,\"#fdca26\"],[1.0,\"#f0f921\"]],\"sequentialminus\":[[0.0,\"#0d0887\"],[0.1111111111111111,\"#46039f\"],[0.2222222222222222,\"#7201a8\"],[0.3333333333333333,\"#9c179e\"],[0.4444444444444444,\"#bd3786\"],[0.5555555555555556,\"#d8576b\"],[0.6666666666666666,\"#ed7953\"],[0.7777777777777778,\"#fb9f3a\"],[0.8888888888888888,\"#fdca26\"],[1.0,\"#f0f921\"]],\"diverging\":[[0,\"#8e0152\"],[0.1,\"#c51b7d\"],[0.2,\"#de77ae\"],[0.3,\"#f1b6da\"],[0.4,\"#fde0ef\"],[0.5,\"#f7f7f7\"],[0.6,\"#e6f5d0\"],[0.7,\"#b8e186\"],[0.8,\"#7fbc41\"],[0.9,\"#4d9221\"],[1,\"#276419\"]]},\"xaxis\":{\"gridcolor\":\"white\",\"linecolor\":\"white\",\"ticks\":\"\",\"title\":{\"standoff\":15},\"zerolinecolor\":\"white\",\"automargin\":true,\"zerolinewidth\":2},\"yaxis\":{\"gridcolor\":\"white\",\"linecolor\":\"white\",\"ticks\":\"\",\"title\":{\"standoff\":15},\"zerolinecolor\":\"white\",\"automargin\":true,\"zerolinewidth\":2},\"scene\":{\"xaxis\":{\"backgroundcolor\":\"#E5ECF6\",\"gridcolor\":\"white\",\"linecolor\":\"white\",\"showbackground\":true,\"ticks\":\"\",\"zerolinecolor\":\"white\",\"gridwidth\":2},\"yaxis\":{\"backgroundcolor\":\"#E5ECF6\",\"gridcolor\":\"white\",\"linecolor\":\"white\",\"showbackground\":true,\"ticks\":\"\",\"zerolinecolor\":\"white\",\"gridwidth\":2},\"zaxis\":{\"backgroundcolor\":\"#E5ECF6\",\"gridcolor\":\"white\",\"linecolor\":\"white\",\"showbackground\":true,\"ticks\":\"\",\"zerolinecolor\":\"white\",\"gridwidth\":2}},\"shapedefaults\":{\"line\":{\"color\":\"#2a3f5f\"}},\"annotationdefaults\":{\"arrowcolor\":\"#2a3f5f\",\"arrowhead\":0,\"arrowwidth\":1},\"geo\":{\"bgcolor\":\"white\",\"landcolor\":\"#E5ECF6\",\"subunitcolor\":\"white\",\"showland\":true,\"showlakes\":true,\"lakecolor\":\"white\"},\"title\":{\"x\":0.05},\"mapbox\":{\"style\":\"light\"}}},\"font\":{\"size\":15},\"autosize\":false,\"width\":1200,\"height\":1000},                        {\"responsive\": true}                    ).then(function(){\n",
       "                            \n",
       "var gd = document.getElementById('5e8746ce-a53c-425a-ac8c-de339b3e1c10');\n",
       "var x = new MutationObserver(function (mutations, observer) {{\n",
       "        var display = window.getComputedStyle(gd).display;\n",
       "        if (!display || display === 'none') {{\n",
       "            console.log([gd, 'removed!']);\n",
       "            Plotly.purge(gd);\n",
       "            observer.disconnect();\n",
       "        }}\n",
       "}});\n",
       "\n",
       "// Listen for the removal of the full notebook cells\n",
       "var notebookContainer = gd.closest('#notebook-container');\n",
       "if (notebookContainer) {{\n",
       "    x.observe(notebookContainer, {childList: true});\n",
       "}}\n",
       "\n",
       "// Listen for the clearing of the current output cell\n",
       "var outputEl = gd.closest('.output');\n",
       "if (outputEl) {{\n",
       "    x.observe(outputEl, {childList: true});\n",
       "}}\n",
       "\n",
       "                        })                };                });            </script>        </div>"
      ]
     },
     "metadata": {},
     "output_type": "display_data"
    }
   ],
   "source": [
    "# plot sample info for cell lines (sankey plot)\n",
    "depmap_samples = depmap_sample_df.index.intersection(tot_gene_df.index)\n",
    "depmap_sample_df = depmap_sample_df.loc[depmap_samples]\n",
    "\n",
    "tmp = depmap_sample_df\n",
    "tmp[\"weight\"] = 1\n",
    "link_sankey_plot = generate_sankey_chart_data(tmp, ['Sex', 'GrowthPattern', 'PrimaryOrMetastasis', 'OncotreeLineage'], 'weight')\n",
    "\n",
    "# make plot\n",
    "node = dict(label = link_sankey_plot[0], pad = 50, thickness = 20)\n",
    "link = dict(source = link_sankey_plot[1], target = link_sankey_plot[2], value = link_sankey_plot[3])\n",
    "data_plot = go.Sankey(link=link, node=node)\n",
    "fig = go.Figure(data_plot)\n",
    "fig.update_layout(\n",
    "    autosize=False,\n",
    "    width=1200,\n",
    "    height=1000, \n",
    "    font_size=15\n",
    ")\n",
    "fig.show()\n",
    "fig.write_image(FOLD_PROJECT + \"data_preprocessing/plot/samples_DEPMAP.pdf\")"
   ]
  },
  {
   "cell_type": "code",
   "execution_count": null,
   "metadata": {},
   "outputs": [],
   "source": [
    "#### FROM HERE #######"
   ]
  },
  {
   "cell_type": "code",
   "execution_count": 113,
   "metadata": {},
   "outputs": [],
   "source": [
    "import random\n",
    "import torch\n",
    "from sklearn.model_selection import train_test_split, StratifiedKFold\n",
    "from torch.utils.data import TensorDataset, DataLoader\n",
    "\n",
    "def set_seed(seed):\n",
    "    random.seed(seed)\n",
    "    np.random.seed(seed)\n",
    "    torch.manual_seed(seed)\n",
    "    if torch.cuda.device_count() > 0:\n",
    "        torch.cuda.manual_seed_all(seed)"
   ]
  },
  {
   "cell_type": "code",
   "execution_count": null,
   "metadata": {},
   "outputs": [],
   "source": [
    "# modify\n",
    "# QUESTION: seems to use only ccle...\n",
    "def get_unlabeled_dataloaders(gex_features_df, seed, batch_size, ccle_only=False):\n",
    "    \n",
    "    set_seed(seed)\n",
    "    ccle_sample_info_df = pd.read_csv(data_config.ccle_sample_file, index_col=0)\n",
    "    with gzip.open(data_config.xena_sample_file) as f:\n",
    "        xena_sample_info_df = pd.read_csv(f, sep='\\t', index_col=0)\n",
    "    xena_samples = xena_sample_info_df.index.intersection(gex_features_df.index)\n",
    "    ccle_samples = gex_features_df.index.difference(xena_samples)\n",
    "    xena_sample_info_df = xena_sample_info_df.loc[xena_samples]\n",
    "    ccle_sample_info_df = ccle_sample_info_df.loc[ccle_samples.intersection(ccle_sample_info_df.index)]\n",
    "\n",
    "    xena_df = gex_features_df.loc[xena_samples]\n",
    "    ccle_df = gex_features_df.loc[ccle_samples]\n",
    "\n",
    "    excluded_ccle_samples = []\n",
    "    excluded_ccle_samples.extend(ccle_df.index.difference(ccle_sample_info_df.index))\n",
    "    excluded_ccle_diseases = ccle_sample_info_df.primary_disease.value_counts()[\n",
    "        ccle_sample_info_df.primary_disease.value_counts() < 2].index\n",
    "    excluded_ccle_samples.extend(\n",
    "        ccle_sample_info_df[ccle_sample_info_df.primary_disease.isin(excluded_ccle_diseases)].index)\n",
    "\n",
    "    to_split_ccle_df = ccle_df[~ccle_df.index.isin(excluded_ccle_samples)]\n",
    "    train_ccle_df, test_ccle_df = train_test_split(to_split_ccle_df, test_size=0.1,\n",
    "                                                   stratify=ccle_sample_info_df.loc[\n",
    "                                                       to_split_ccle_df.index].primary_disease)\n",
    "    test_ccle_df = test_ccle_df.append(ccle_df.loc[excluded_ccle_samples])\n",
    "    train_xena_df, test_xena_df = train_test_split(xena_df, test_size=len(test_ccle_df) / len(xena_df),\n",
    "                                                   stratify=xena_sample_info_df['_primary_disease'],\n",
    "                                                   random_state=seed)\n",
    "\n",
    "    xena_dataset = TensorDataset(\n",
    "        torch.from_numpy(xena_df.values.astype('float32'))\n",
    "    )\n",
    "\n",
    "    ccle_dataset = TensorDataset(\n",
    "        torch.from_numpy(ccle_df.values.astype('float32'))\n",
    "    )\n",
    "\n",
    "    train_xena_dateset = TensorDataset(\n",
    "        torch.from_numpy(train_xena_df.values.astype('float32')))\n",
    "    test_xena_dateset = TensorDataset(\n",
    "        torch.from_numpy(test_xena_df.values.astype('float32')))\n",
    "    train_ccle_dateset = TensorDataset(\n",
    "        torch.from_numpy(train_ccle_df.values.astype('float32')))\n",
    "    test_ccle_dateset = TensorDataset(\n",
    "        torch.from_numpy(test_ccle_df.values.astype('float32')))\n",
    "\n",
    "    xena_dataloader = DataLoader(xena_dataset,\n",
    "                                 batch_size=batch_size,\n",
    "                                 shuffle=True)\n",
    "    train_xena_dataloader = DataLoader(train_xena_dateset,\n",
    "                                       batch_size=batch_size,\n",
    "                                       shuffle=True)\n",
    "    test_xena_dataloader = DataLoader(test_xena_dateset,\n",
    "                                      batch_size=batch_size,\n",
    "                                      shuffle=True)\n",
    "\n",
    "    ccle_data_loader = DataLoader(ccle_dataset,\n",
    "                                  batch_size=batch_size,\n",
    "                                  shuffle=True,\n",
    "                                  drop_last=True\n",
    "                                  )\n",
    "\n",
    "    train_ccle_dataloader = DataLoader(train_ccle_dateset,\n",
    "                                       batch_size=batch_size,\n",
    "                                       shuffle=True, drop_last=True)\n",
    "    test_ccle_dataloader = DataLoader(test_ccle_dateset,\n",
    "                                      batch_size=batch_size,\n",
    "                                      shuffle=True)\n",
    "    if ccle_only:\n",
    "        return (ccle_data_loader, test_ccle_dataloader), (ccle_data_loader, test_ccle_dataloader)\n",
    "    else:\n",
    "        return (ccle_data_loader, test_ccle_dataloader), (xena_dataloader, test_xena_dataloader)\n"
   ]
  }
 ],
 "metadata": {
  "kernelspec": {
   "display_name": "Python 3 (ipykernel)",
   "language": "python",
   "name": "python3"
  },
  "language_info": {
   "codemirror_mode": {
    "name": "ipython",
    "version": 3
   },
   "file_extension": ".py",
   "mimetype": "text/x-python",
   "name": "python",
   "nbconvert_exporter": "python",
   "pygments_lexer": "ipython3",
   "version": "3.9.18"
  },
  "orig_nbformat": 4
 },
 "nbformat": 4,
 "nbformat_minor": 2
}
